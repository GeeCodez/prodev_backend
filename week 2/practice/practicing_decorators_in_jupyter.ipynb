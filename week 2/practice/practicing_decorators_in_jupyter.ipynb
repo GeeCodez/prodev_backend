{
 "cells": [
  {
   "cell_type": "code",
   "execution_count": 11,
   "id": "0241cb38",
   "metadata": {},
   "outputs": [
    {
     "name": "stdout",
     "output_type": "stream",
     "text": [
      "Hello!\n",
      "Welcome to the program.\n",
      "Have a nice day\n"
     ]
    }
   ],
   "source": [
    "def greet_decorator(func):\n",
    "    def wrapper():\n",
    "        print(\"Hello!\")\n",
    "        func()\n",
    "        print(\"Have a nice day\")\n",
    "    return wrapper\n",
    "\n",
    "@greet_decorator\n",
    "def funct():\n",
    "    print(\"Welcome to the program.\")\n",
    "\n",
    "funct()"
   ]
  },
  {
   "cell_type": "code",
   "execution_count": 12,
   "id": "fad071b2",
   "metadata": {},
   "outputs": [
    {
     "data": {
      "text/plain": [
       "'HELLO WORLD'"
      ]
     },
     "execution_count": 12,
     "metadata": {},
     "output_type": "execute_result"
    }
   ],
   "source": [
    "def make_uppercase(func):\n",
    "    def wrapper():\n",
    "        result=func()\n",
    "        return result.upper()\n",
    "    return wrapper\n",
    "\n",
    "@make_uppercase\n",
    "def say_hello():\n",
    "    return \"hello world\"\n",
    "\n",
    "say_hello()"
   ]
  },
  {
   "cell_type": "code",
   "execution_count": 14,
   "id": "2e5c53fc",
   "metadata": {},
   "outputs": [
    {
     "name": "stdout",
     "output_type": "stream",
     "text": [
      "Calling function: display_message\n",
      "This is a logged message.\n",
      "Finished calling function: display_message\n"
     ]
    }
   ],
   "source": [
    "def log_call(func):\n",
    "    def wrapper():\n",
    "        print(f\"Calling function: {func.__name__}\")\n",
    "        val=func()\n",
    "        print(f\"Finished calling function: {func.__name__}\")\n",
    "    return wrapper\n",
    "\n",
    "@log_call\n",
    "def display_message():\n",
    "    print(\"This is a logged message.\")\n",
    "\n",
    "display_message()"
   ]
  },
  {
   "cell_type": "code",
   "execution_count": 15,
   "id": "2ff78105",
   "metadata": {},
   "outputs": [
    {
     "name": "stdout",
     "output_type": "stream",
     "text": [
      "Function add called with arguments: (3, 5) and keyword arguments: {}\n",
      "Function add returned: 8\n"
     ]
    },
    {
     "data": {
      "text/plain": [
       "8"
      ]
     },
     "execution_count": 15,
     "metadata": {},
     "output_type": "execute_result"
    }
   ],
   "source": [
    "def debug(func):\n",
    "    def wrapper(*args, **kwargs):\n",
    "        print(f\"Function {func.__name__} called with arguments: {args} and keyword arguments: {kwargs}\")\n",
    "        result = func(*args, **kwargs)\n",
    "        print(f\"Function {func.__name__} returned: {result}\")\n",
    "        return result\n",
    "    return wrapper\n",
    "\n",
    "@debug\n",
    "def add(a, b):\n",
    "    return a + b\n",
    "\n",
    "add(3, 5)\n",
    "\n"
   ]
  },
  {
   "cell_type": "code",
   "execution_count": 17,
   "id": "248e70bc",
   "metadata": {},
   "outputs": [
    {
     "name": "stdout",
     "output_type": "stream",
     "text": [
      "Error: Division by zero\n"
     ]
    }
   ],
   "source": [
    "def safe_divide(func):\n",
    "    def wrapper(a, b):\n",
    "        if b == 0:\n",
    "            return \"Error: Division by zero\"\n",
    "        return func(a, b)\n",
    "    return wrapper\n",
    "\n",
    "@safe_divide\n",
    "def divide(x, y):\n",
    "    return x / y\n",
    "\n",
    "print(divide(10, 0))"
   ]
  },
  {
   "cell_type": "code",
   "execution_count": 18,
   "id": "a2da8999",
   "metadata": {},
   "outputs": [
    {
     "name": "stdout",
     "output_type": "stream",
     "text": [
      "16\n"
     ]
    }
   ],
   "source": [
    "def sqaure_output(func):\n",
    "    def wrapper(*args, **kwargs):\n",
    "        result = func(*args, **kwargs)\n",
    "        return result * result\n",
    "    return wrapper\n",
    "\n",
    "@sqaure_output\n",
    "def get_number(num):\n",
    "    return num\n",
    "\n",
    "print(get_number(4))  # Output will be 16"
   ]
  },
  {
   "cell_type": "code",
   "execution_count": 19,
   "id": "bcc6aaec",
   "metadata": {},
   "outputs": [
    {
     "name": "stdout",
     "output_type": "stream",
     "text": [
      "Function compute_sum took 0.032318830490112305 seconds to execute.\n",
      "499999500000\n"
     ]
    }
   ],
   "source": [
    "def timer(func):\n",
    "    import time\n",
    "    def wrapper(*args, **kwargs):\n",
    "        start_time = time.time()\n",
    "        result = func(*args, **kwargs)\n",
    "        end_time = time.time()\n",
    "        print(f\"Function {func.__name__} took {end_time - start_time} seconds to execute.\")\n",
    "        return result\n",
    "    return wrapper\n",
    "\n",
    "@timer\n",
    "def compute_sum(n):\n",
    "    return sum(range(n))\n",
    "\n",
    "print(compute_sum(1000000))"
   ]
  },
  {
   "cell_type": "code",
   "execution_count": 25,
   "id": "55977635",
   "metadata": {},
   "outputs": [
    {
     "name": "stdout",
     "output_type": "stream",
     "text": [
      "Hello!\n",
      "Hello!\n",
      "Hello!\n"
     ]
    }
   ],
   "source": [
    "def repeat_three_times(func):\n",
    "    def wrapper(*args, **kwargs):\n",
    "        for _ in range(3):\n",
    "            print(func(*args, **kwargs))\n",
    "    return wrapper\n",
    "\n",
    "@repeat_three_times\n",
    "def say_hello():\n",
    "    return \"Hello!\"\n",
    "\n",
    "say_hello()"
   ]
  },
  {
   "cell_type": "code",
   "execution_count": null,
   "id": "28e94851",
   "metadata": {},
   "outputs": [
    {
     "name": "stdout",
     "output_type": "stream",
     "text": [
      "Greetings after delay!\n"
     ]
    }
   ],
   "source": [
    "def delay(func):\n",
    "    def wrapper(*args, **kwargs):\n",
    "        import time\n",
    "        time.sleep(5)\n",
    "        return func(*args, **kwargs)\n",
    "    return wrapper\n",
    "\n",
    "@delay\n",
    "def greet():\n",
    "    return \"Greetings after delay!\"\n",
    "\n",
    "\n",
    "print(greet())"
   ]
  },
  {
   "cell_type": "code",
   "execution_count": 35,
   "id": "b263c6cd",
   "metadata": {},
   "outputs": [
    {
     "name": "stdout",
     "output_type": "stream",
     "text": [
      "Decorator creation took 4.5299530029296875e-06 seconds\n",
      "Hi there!\n",
      "Hi there!\n",
      "Hi there!\n",
      "Hi there!\n",
      "Hi there!\n"
     ]
    }
   ],
   "source": [
    "import time\n",
    "def repeat(n):\n",
    "    s=time.time()\n",
    "    def decorator(func):\n",
    "        import time\n",
    "        time.sleep(4)\n",
    "        def wrapper(*args, **kwargs):\n",
    "            for _ in range(n):\n",
    "                print(func(*args, **kwargs))\n",
    "        return wrapper\n",
    "    e=time.time()\n",
    "    print(f\"Decorator creation took {e - s} seconds\")\n",
    "    return decorator\n",
    "\n",
    "times=int(input(\"Enter number of times to repeat: \"))\n",
    "\n",
    "@repeat(times)\n",
    "def say_hi():\n",
    "    return \"Hi there!\"\n",
    "\n",
    "say_hi()"
   ]
  },
  {
   "cell_type": "code",
   "execution_count": 38,
   "id": "2373f44c",
   "metadata": {},
   "outputs": [
    {
     "name": "stdout",
     "output_type": "stream",
     "text": [
      "Hello!\n",
      "Hello!\n",
      "Hello!\n",
      "Max call limit reached\n"
     ]
    }
   ],
   "source": [
    "def limit(max_calls):\n",
    "    def decorator(func):\n",
    "        calls = 0\n",
    "        def wrapper(*args, **kwargs):\n",
    "            nonlocal calls\n",
    "            if calls < max_calls:\n",
    "                calls += 1\n",
    "                return func(*args, **kwargs)\n",
    "            else:\n",
    "                return \"Max call limit reached\"\n",
    "        return wrapper\n",
    "    return decorator\n",
    "\n",
    "@limit(3)\n",
    "def greet():\n",
    "    return \"Hello!\"\n",
    "\n",
    "print(greet())\n",
    "print(greet())\n",
    "print(greet())\n",
    "print(greet())  # This should indicate that the max call limit has been reached"
   ]
  },
  {
   "cell_type": "code",
   "execution_count": 40,
   "id": "ab724267",
   "metadata": {},
   "outputs": [
    {
     "name": "stdout",
     "output_type": "stream",
     "text": [
      "you must be logged in to view this content\n",
      "Your balance is $1000\n"
     ]
    }
   ],
   "source": [
    "logged_in = False\n",
    "def authenticate(func):\n",
    "    def wrapper(*args, **kwargs):\n",
    "        if not logged_in:\n",
    "            return \"you must be logged in to view this content\"\n",
    "        return func(*args, **kwargs)\n",
    "    return wrapper\n",
    "\n",
    "@authenticate\n",
    "def view_balance():\n",
    "    return \"Your balance is $1000\"\n",
    "\n",
    "print(view_balance())  # Should indicate that the user must be logged in\n",
    "\n",
    "logged_in= True\n",
    "print(view_balance())  # Should display the balance"
   ]
  },
  {
   "cell_type": "code",
   "execution_count": 42,
   "id": "89ef1a09",
   "metadata": {},
   "outputs": [
    {
     "name": "stdout",
     "output_type": "stream",
     "text": [
      "55\n",
      "12586269025\n"
     ]
    }
   ],
   "source": [
    "def cache(func):\n",
    "    stored_results = {}\n",
    "    def wrapper(*args):\n",
    "        if args in stored_results:\n",
    "            return stored_results[args]\n",
    "        result = func(*args)\n",
    "        stored_results[args] = result\n",
    "        return result\n",
    "    return wrapper\n",
    "\n",
    "@cache\n",
    "def fibonacci(n):\n",
    "    if n <= 1:\n",
    "        return n\n",
    "    return fibonacci(n-1) + fibonacci(n-2)\n",
    "\n",
    "print(fibonacci(10))  # Output: 55\n",
    "\n",
    "print(fibonacci(50))  # Output: 12586269025"
   ]
  },
  {
   "cell_type": "code",
   "execution_count": 43,
   "id": "0295c426",
   "metadata": {},
   "outputs": [
    {
     "name": "stdout",
     "output_type": "stream",
     "text": [
      "Access denied: Admins only\n",
      "User 123 has been deleted.\n"
     ]
    }
   ],
   "source": [
    "def require_admin(func):\n",
    "    def wrapper(user_role, *args, **kwargs):\n",
    "        if user_role != 'admin':\n",
    "            return \"Access denied: Admins only\"\n",
    "        return func(user_role, *args, **kwargs)\n",
    "    return wrapper\n",
    "\n",
    "@require_admin\n",
    "def delete_user(user_role, user_id):\n",
    "    return f\"User {user_id} has been deleted.\"\n",
    "\n",
    "print(delete_user('user', 123))  # Should deny access\n",
    "print(delete_user('admin', 123))  # Should allow deletion"
   ]
  },
  {
   "cell_type": "code",
   "execution_count": 45,
   "id": "ac57e8a4",
   "metadata": {},
   "outputs": [
    {
     "name": "stdout",
     "output_type": "stream",
     "text": [
      "sample_function was run at Fri Oct 31 20:06:49 2025\n",
      "Function executed.\n"
     ]
    }
   ],
   "source": [
    "def log_time(func):\n",
    "    import time\n",
    "    print(f\"{func.__name__} was run at {time.ctime()}\")\n",
    "    def wrapper(*args, **kwargs):\n",
    "        return func(*args, **kwargs)\n",
    "    return wrapper\n",
    "@log_time\n",
    "def sample_function():\n",
    "    return \"Function executed.\"\n",
    "\n",
    "print(sample_function())"
   ]
  }
 ],
 "metadata": {
  "kernelspec": {
   "display_name": "Python 3",
   "language": "python",
   "name": "python3"
  },
  "language_info": {
   "codemirror_mode": {
    "name": "ipython",
    "version": 3
   },
   "file_extension": ".py",
   "mimetype": "text/x-python",
   "name": "python",
   "nbconvert_exporter": "python",
   "pygments_lexer": "ipython3",
   "version": "3.14.0"
  }
 },
 "nbformat": 4,
 "nbformat_minor": 5
}
